{
 "cells": [
  {
   "cell_type": "markdown",
   "metadata": {},
   "source": [
    "## Classroom exercise: energy calculation\n",
    "\n",
    "### Diffusion model in 1D\n",
    "\n",
    "Description: A one-dimensional diffusion model. (Could be a gas of particles, or a bunch of crowded people in a corridor, or animals in a valley habitat...)\n",
    "\n",
    "- Agents are on a 1d axis\n",
    "- Agents do not want to be where there are other agents\n",
    "\n",
    "Implementation:\n",
    "\n",
    "- Given a vector $n$ of positive integers, and of arbitrary length\n",
    "- Compute the energy, $E(n) = \\sum_i n_i(n_i - 1)$"
   ]
  },
  {
   "cell_type": "code",
   "execution_count": 3,
   "metadata": {
    "collapsed": false
   },
   "outputs": [
    {
     "data": {
      "text/plain": [
       "<matplotlib.text.Text at 0x10b7cc110>"
      ]
     },
     "execution_count": 3,
     "metadata": {},
     "output_type": "execute_result"
    },
    {
     "data": {
      "image/png": "[encoded data removed]",
      "text/plain": [
       "<matplotlib.figure.Figure at 0x10dd9d650>"
      ]
     },
     "metadata": {},
     "output_type": "display_data"
    }
   ],
   "source": [
    "import numpy as np\n",
    "import matplotlib.pyplot as plt\n",
    "%matplotlib inline\n",
    "density =  np.array([0, 0, 3, 5, 8, 4, 2, 1])\n",
    "fig, ax = plt.subplots()\n",
    "ax.bar(np.arange(len(density))-0.5, density)\n",
    "ax.xrange=[-0.5, len(density)-0.5]\n",
    "ax.set_ylabel(\"Particle count $n_i$\")\n",
    "ax.set_xlabel(\"Position $i$\")"
   ]
  },
  {
   "cell_type": "markdown",
   "metadata": {},
   "source": [
    "step 1: create python module in bash with `__init__.py`"
   ]
  },
  {
   "cell_type": "code",
   "execution_count": null,
   "metadata": {
    "collapsed": true
   },
   "outputs": [],
   "source": []
  },
  {
   "cell_type": "markdown",
   "metadata": {},
   "source": [
    "step 2: implement file: diffusion_model.py (remember error handling, e.g. raise `TypeError`, `ValueError`)."
   ]
  },
  {
   "cell_type": "code",
   "execution_count": null,
   "metadata": {
    "collapsed": true
   },
   "outputs": [],
   "source": [
    "# Hints:\n",
    "from numpy import array, any, sum\n",
    "a=[1,2,3,4,5,6]\n",
    "b=array(a)\n",
    "print 'data type: ', b.dtype.kind # integer\n",
    "print 'dimension: ', b.ndim\n",
    "print any(b<-1), any(b<5)\n",
    "print sum(b)"
   ]
  },
  {
   "cell_type": "code",
   "execution_count": null,
   "metadata": {
    "collapsed": true
   },
   "outputs": [],
   "source": [
    "\n",
    "\n",
    "def energy(density):\n",
    "  \"\"\" Energy associated with the diffusion model\n",
    "      :Parameters:\n",
    "        density: array of positive integers\n",
    "           Number of particles at each position i in the array/geometry\n",
    "  \"\"\""
   ]
  },
  {
   "cell_type": "markdown",
   "metadata": {},
   "source": [
    "step 3: create unit tests test_diffusion_model.py"
   ]
  },
  {
   "cell_type": "code",
   "execution_count": null,
   "metadata": {
    "collapsed": false
   },
   "outputs": [],
   "source": []
  },
  {
   "cell_type": "code",
   "execution_count": null,
   "metadata": {
    "collapsed": true
   },
   "outputs": [],
   "source": []
  },
  {
   "cell_type": "markdown",
   "metadata": {},
   "source": [
    "step 4: invoke tests (with coverage)"
   ]
  },
  {
   "cell_type": "code",
   "execution_count": null,
   "metadata": {
    "collapsed": true
   },
   "outputs": [],
   "source": []
  }
 ],
 "metadata": {
  "kernelspec": {
   "display_name": "Python 2",
   "language": "python",
   "name": "python2"
  },
  "language_info": {
   "codemirror_mode": {
    "name": "ipython",
    "version": 2
   },
   "file_extension": ".py",
   "mimetype": "text/x-python",
   "name": "python",
   "nbconvert_exporter": "python",
   "pygments_lexer": "ipython2",
   "version": "2.7.10"
  }
 },
 "nbformat": 4,
 "nbformat_minor": 0
}
